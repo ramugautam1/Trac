{
 "cells": [
  {
   "cell_type": "code",
   "execution_count": 44,
   "outputs": [
    {
     "name": "stdout",
     "output_type": "stream",
     "text": [
      "0        1\n",
      "1        2\n",
      "2        3\n",
      "3        4\n",
      "4        5\n",
      "      ... \n",
      "276    277\n",
      "277    278\n",
      "278    279\n",
      "279    280\n",
      "280    281\n",
      "Name: label, Length: 281, dtype: int64\n",
      "0      [[0, 133, 4], [0, 133, 5], [0, 134, 4], [0, 13...\n",
      "1      [[0, 136, 6], [1, 136, 6], [1, 137, 6], [2, 13...\n",
      "2      [[1, 75, 11], [1, 75, 12], [1, 76, 11], [1, 76...\n",
      "3      [[2, 249, 9], [2, 249, 10], [3, 249, 9], [3, 2...\n",
      "4      [[8, 44, 4], [9, 44, 4], [10, 44, 4], [11, 44,...\n",
      "                             ...                        \n",
      "276    [[498, 80, 7], [499, 79, 6], [499, 80, 6], [49...\n",
      "277    [[501, 249, 3], [501, 249, 4], [501, 250, 3], ...\n",
      "278    [[502, 271, 9], [502, 272, 9], [503, 270, 9], ...\n",
      "279    [[505, 33, 6], [505, 34, 6], [505, 35, 6], [50...\n",
      "280    [[507, 11, 4], [507, 11, 5], [508, 10, 4], [50...\n",
      "Name: coords, Length: 281, dtype: object\n",
      "<class 'pandas.core.series.Series'>\n",
      "133\n",
      "281\n",
      "3\n"
     ]
    }
   ],
   "source": [
    "from skimage import measure\n",
    "import pandas as pd\n",
    "from functions import niftiread, size3, getVoxelList\n",
    "import numpy as np\n",
    "\n",
    "folder = '/home/nirvan/Desktop/Projects/EcadMyo_08_all/EcadMyo_08_Tracking_Result/'\n",
    "tim = 2\n",
    "t2 = str(2)\n",
    "\n",
    "Fullsize = niftiread(folder + t2 + '/Fullsize_' + t2 + '.nii')\n",
    "Fullsize[Fullsize>0] = 1\n",
    "Fullsize_2 = Fullsize.astype(bool)\n",
    "\n",
    "Fullsize_2, orgnum = measure.label(Fullsize_2, connectivity=1, return_num=True)\n",
    "stats1 = pd.DataFrame(measure.regionprops_table(Fullsize_2, properties=('label', 'centroid','coords')))\n",
    "print(stats1.label)\n",
    "VoxelList = stats1.coords\n",
    "print(VoxelList)\n",
    "print(type(VoxelList))\n",
    "print(VoxelList[0][0][1])\n",
    "\n",
    "print(VoxelList.shape[0])\n",
    "\n",
    "# voxels = getVoxelList(Fullsize_2,orgnum)\n",
    "\n",
    "# print(stats1)\n",
    "# print(voxels)\n",
    "print(np.size(VoxelList[0],axis=1))\n"
   ],
   "metadata": {
    "collapsed": false,
    "pycharm": {
     "name": "#%%\n"
    }
   }
  },
  {
   "cell_type": "code",
   "execution_count": null,
   "outputs": [],
   "source": [],
   "metadata": {
    "collapsed": false,
    "pycharm": {
     "name": "#%%\n"
    }
   }
  },
  {
   "cell_type": "code",
   "execution_count": 45,
   "outputs": [
    {
     "name": "stdout",
     "output_type": "stream",
     "text": [
      "0        1\n",
      "1        2\n",
      "2        3\n",
      "3        4\n",
      "4        5\n",
      "      ... \n",
      "276    277\n",
      "277    278\n",
      "278    279\n",
      "279    280\n",
      "280    281\n",
      "Name: label, Length: 281, dtype: int64\n",
      "0      [[0, 133, 4], [0, 133, 5], [0, 134, 4], [0, 13...\n",
      "1      [[0, 136, 6], [1, 136, 6], [1, 137, 6], [2, 13...\n",
      "2      [[1, 75, 11], [1, 75, 12], [1, 76, 11], [1, 76...\n",
      "3      [[2, 249, 9], [2, 249, 10], [3, 249, 9], [3, 2...\n",
      "4      [[8, 44, 4], [9, 44, 4], [10, 44, 4], [11, 44,...\n",
      "                             ...                        \n",
      "276    [[498, 80, 7], [499, 79, 6], [499, 80, 6], [49...\n",
      "277    [[501, 249, 3], [501, 249, 4], [501, 250, 3], ...\n",
      "278    [[502, 271, 9], [502, 272, 9], [503, 270, 9], ...\n",
      "279    [[505, 33, 6], [505, 34, 6], [505, 35, 6], [50...\n",
      "280    [[507, 11, 4], [507, 11, 5], [508, 10, 4], [50...\n",
      "Name: coords, Length: 281, dtype: object\n",
      "<class 'pandas.core.series.Series'>\n",
      "133\n",
      "281\n",
      "3\n"
     ]
    }
   ],
   "source": [
    "from skimage import measure\n",
    "import pandas as pd\n",
    "from functions import niftiread, size3, getVoxelList\n",
    "import numpy as np\n",
    "\n",
    "folder = '/home/nirvan/Desktop/Projects/EcadMyo_08_all/EcadMyo_08_Tracking_Result/'\n",
    "tim = 2\n",
    "t2 = str(2)\n",
    "padding =[20,20,2]\n",
    "\n",
    "Fullsize_1 = niftiread(folder + t2 + '/Fullsize_label_' + t2 + '.nii')\n",
    "Fullsize_1_padding = np.pad(Fullsize_1, ((padding[0], padding[0]), (padding[1], padding[1]), (padding[2], padding[2])), 'constant')\n",
    "[fx, fy, fz] = size3(Fullsize_1_padding)\n",
    "\n",
    "Fullsize_1[Fullsize_1>0] = 1\n",
    "Fullsize_1 = Fullsize_1.astype(bool)\n",
    "\n",
    "Fullsize_2, orgnum = measure.label(Fullsize_2, connectivity=1, return_num=True)\n",
    "stats1 = pd.DataFrame(measure.regionprops_table(Fullsize_2, properties=('label', 'centroid','coords')))\n",
    "print(stats1.label)\n",
    "VoxelList = stats1.coords\n",
    "print(VoxelList)\n",
    "print(type(VoxelList))\n",
    "print(VoxelList[0][0][1])\n",
    "\n",
    "print(VoxelList.shape[0])\n",
    "\n",
    "# voxels = getVoxelList(Fullsize_2,orgnum)\n",
    "\n",
    "# print(stats1)\n",
    "# print(voxels)\n",
    "print(np.size(VoxelList[0],axis=1))"
   ],
   "metadata": {
    "collapsed": false,
    "pycharm": {
     "name": "#%%\n"
    }
   }
  },
  {
   "cell_type": "code",
   "execution_count": 52,
   "outputs": [
    {
     "name": "stdout",
     "output_type": "stream",
     "text": [
      "281\n"
     ]
    },
    {
     "data": {
      "text/plain": "281"
     },
     "execution_count": 52,
     "metadata": {},
     "output_type": "execute_result"
    }
   ],
   "source": [
    "print(VoxelList.shape[0])\n",
    "np.size(VoxelList,axis=0)\n"
   ],
   "metadata": {
    "collapsed": false,
    "pycharm": {
     "name": "#%%\n"
    }
   }
  },
  {
   "cell_type": "code",
   "execution_count": 48,
   "outputs": [
    {
     "data": {
      "text/plain": "10"
     },
     "execution_count": 48,
     "metadata": {},
     "output_type": "execute_result"
    }
   ],
   "source": [
    "np.size(VoxelList[0], axis=0)"
   ],
   "metadata": {
    "collapsed": false,
    "pycharm": {
     "name": "#%%\n"
    }
   }
  },
  {
   "cell_type": "code",
   "execution_count": 54,
   "outputs": [
    {
     "data": {
      "text/plain": "281"
     },
     "execution_count": 54,
     "metadata": {},
     "output_type": "execute_result"
    }
   ],
   "source": [
    "stats1.shape[0]"
   ],
   "metadata": {
    "collapsed": false,
    "pycharm": {
     "name": "#%%\n"
    }
   }
  },
  {
   "cell_type": "code",
   "execution_count": 59,
   "outputs": [
    {
     "ename": "ValueError",
     "evalue": "operands could not be broadcast together with shapes (5,3) (22,3) ",
     "output_type": "error",
     "traceback": [
      "\u001B[0;31m---------------------------------------------------------------------------\u001B[0m",
      "\u001B[0;31mValueError\u001B[0m                                Traceback (most recent call last)",
      "Input \u001B[0;32mIn [59]\u001B[0m, in \u001B[0;36m<cell line: 1>\u001B[0;34m()\u001B[0m\n\u001B[0;32m----> 1\u001B[0m stats2 \u001B[38;5;241m=\u001B[39m \u001B[43mstats1\u001B[49m\u001B[38;5;241;43m.\u001B[39;49m\u001B[43msort_values\u001B[49m\u001B[43m(\u001B[49m\u001B[43mby\u001B[49m\u001B[38;5;241;43m=\u001B[39;49m\u001B[43m[\u001B[49m\u001B[38;5;124;43m'\u001B[39;49m\u001B[38;5;124;43mcoords\u001B[39;49m\u001B[38;5;124;43m'\u001B[39;49m\u001B[43m]\u001B[49m\u001B[43m,\u001B[49m\u001B[43m \u001B[49m\u001B[43mascending\u001B[49m\u001B[38;5;241;43m=\u001B[39;49m\u001B[38;5;28;43;01mFalse\u001B[39;49;00m\u001B[43m,\u001B[49m\u001B[43m \u001B[49m\u001B[43mignore_index\u001B[49m\u001B[43m \u001B[49m\u001B[38;5;241;43m=\u001B[39;49m\u001B[43m \u001B[49m\u001B[38;5;28;43;01mFalse\u001B[39;49;00m\u001B[43m)\u001B[49m\n",
      "File \u001B[0;32m~/anaconda3/envs/envForTrac/lib/python3.8/site-packages/pandas/util/_decorators.py:311\u001B[0m, in \u001B[0;36mdeprecate_nonkeyword_arguments.<locals>.decorate.<locals>.wrapper\u001B[0;34m(*args, **kwargs)\u001B[0m\n\u001B[1;32m    305\u001B[0m \u001B[38;5;28;01mif\u001B[39;00m \u001B[38;5;28mlen\u001B[39m(args) \u001B[38;5;241m>\u001B[39m num_allow_args:\n\u001B[1;32m    306\u001B[0m     warnings\u001B[38;5;241m.\u001B[39mwarn(\n\u001B[1;32m    307\u001B[0m         msg\u001B[38;5;241m.\u001B[39mformat(arguments\u001B[38;5;241m=\u001B[39marguments),\n\u001B[1;32m    308\u001B[0m         \u001B[38;5;167;01mFutureWarning\u001B[39;00m,\n\u001B[1;32m    309\u001B[0m         stacklevel\u001B[38;5;241m=\u001B[39mstacklevel,\n\u001B[1;32m    310\u001B[0m     )\n\u001B[0;32m--> 311\u001B[0m \u001B[38;5;28;01mreturn\u001B[39;00m \u001B[43mfunc\u001B[49m\u001B[43m(\u001B[49m\u001B[38;5;241;43m*\u001B[39;49m\u001B[43margs\u001B[49m\u001B[43m,\u001B[49m\u001B[43m \u001B[49m\u001B[38;5;241;43m*\u001B[39;49m\u001B[38;5;241;43m*\u001B[39;49m\u001B[43mkwargs\u001B[49m\u001B[43m)\u001B[49m\n",
      "File \u001B[0;32m~/anaconda3/envs/envForTrac/lib/python3.8/site-packages/pandas/core/frame.py:6324\u001B[0m, in \u001B[0;36mDataFrame.sort_values\u001B[0;34m(self, by, axis, ascending, inplace, kind, na_position, ignore_index, key)\u001B[0m\n\u001B[1;32m   6321\u001B[0m     \u001B[38;5;28;01mif\u001B[39;00m \u001B[38;5;28misinstance\u001B[39m(ascending, (\u001B[38;5;28mtuple\u001B[39m, \u001B[38;5;28mlist\u001B[39m)):\n\u001B[1;32m   6322\u001B[0m         ascending \u001B[38;5;241m=\u001B[39m ascending[\u001B[38;5;241m0\u001B[39m]\n\u001B[0;32m-> 6324\u001B[0m     indexer \u001B[38;5;241m=\u001B[39m \u001B[43mnargsort\u001B[49m\u001B[43m(\u001B[49m\n\u001B[1;32m   6325\u001B[0m \u001B[43m        \u001B[49m\u001B[43mk\u001B[49m\u001B[43m,\u001B[49m\u001B[43m \u001B[49m\u001B[43mkind\u001B[49m\u001B[38;5;241;43m=\u001B[39;49m\u001B[43mkind\u001B[49m\u001B[43m,\u001B[49m\u001B[43m \u001B[49m\u001B[43mascending\u001B[49m\u001B[38;5;241;43m=\u001B[39;49m\u001B[43mascending\u001B[49m\u001B[43m,\u001B[49m\u001B[43m \u001B[49m\u001B[43mna_position\u001B[49m\u001B[38;5;241;43m=\u001B[39;49m\u001B[43mna_position\u001B[49m\u001B[43m,\u001B[49m\u001B[43m \u001B[49m\u001B[43mkey\u001B[49m\u001B[38;5;241;43m=\u001B[39;49m\u001B[43mkey\u001B[49m\n\u001B[1;32m   6326\u001B[0m \u001B[43m    \u001B[49m\u001B[43m)\u001B[49m\n\u001B[1;32m   6327\u001B[0m \u001B[38;5;28;01melse\u001B[39;00m:\n\u001B[1;32m   6328\u001B[0m     \u001B[38;5;28;01mreturn\u001B[39;00m \u001B[38;5;28mself\u001B[39m\u001B[38;5;241m.\u001B[39mcopy()\n",
      "File \u001B[0;32m~/anaconda3/envs/envForTrac/lib/python3.8/site-packages/pandas/core/sorting.py:417\u001B[0m, in \u001B[0;36mnargsort\u001B[0;34m(items, kind, ascending, na_position, key, mask)\u001B[0m\n\u001B[1;32m    415\u001B[0m     non_nans \u001B[38;5;241m=\u001B[39m non_nans[::\u001B[38;5;241m-\u001B[39m\u001B[38;5;241m1\u001B[39m]\n\u001B[1;32m    416\u001B[0m     non_nan_idx \u001B[38;5;241m=\u001B[39m non_nan_idx[::\u001B[38;5;241m-\u001B[39m\u001B[38;5;241m1\u001B[39m]\n\u001B[0;32m--> 417\u001B[0m indexer \u001B[38;5;241m=\u001B[39m non_nan_idx[\u001B[43mnon_nans\u001B[49m\u001B[38;5;241;43m.\u001B[39;49m\u001B[43margsort\u001B[49m\u001B[43m(\u001B[49m\u001B[43mkind\u001B[49m\u001B[38;5;241;43m=\u001B[39;49m\u001B[43mkind\u001B[49m\u001B[43m)\u001B[49m]\n\u001B[1;32m    418\u001B[0m \u001B[38;5;28;01mif\u001B[39;00m \u001B[38;5;129;01mnot\u001B[39;00m ascending:\n\u001B[1;32m    419\u001B[0m     indexer \u001B[38;5;241m=\u001B[39m indexer[::\u001B[38;5;241m-\u001B[39m\u001B[38;5;241m1\u001B[39m]\n",
      "\u001B[0;31mValueError\u001B[0m: operands could not be broadcast together with shapes (5,3) (22,3) "
     ]
    }
   ],
   "source": [
    "stats2 = stats1.sort_values(by=['coords'], ascending=False, ignore_index = False)\n"
   ],
   "metadata": {
    "collapsed": false,
    "pycharm": {
     "name": "#%%\n"
    }
   }
  },
  {
   "cell_type": "code",
   "execution_count": 87,
   "outputs": [],
   "source": [
    "count = np.zeros(stats1.shape[0])\n",
    "for i in range(stats1.shape[0]):\n",
    "    count[i] = np.size(stats1.coords[i],axis=0)\n",
    "stats1['Count']=count.astype(int)\n"
   ],
   "metadata": {
    "collapsed": false,
    "pycharm": {
     "name": "#%%\n"
    }
   }
  },
  {
   "cell_type": "code",
   "execution_count": 88,
   "outputs": [
    {
     "data": {
      "text/plain": "     label  centroid-0  centroid-1  centroid-2  \\\n0        1    0.800000  133.500000    4.600000   \n1        2    1.833333  136.666667    6.000000   \n2        3    1.333333   75.500000   11.666667   \n3        4    3.538462  251.307692    9.461538   \n4        5    9.800000   44.200000    4.000000   \n..     ...         ...         ...         ...   \n276    277  499.900000   79.800000    6.400000   \n277    278  502.266667  250.800000    2.933333   \n278    279  502.800000  270.800000    9.000000   \n279    280  505.625000   34.000000    6.125000   \n280    281  509.363636   10.000000    4.590909   \n\n                                                coords  Count  \n0    [[0, 133, 4], [0, 133, 5], [0, 134, 4], [0, 13...     10  \n1    [[0, 136, 6], [1, 136, 6], [1, 137, 6], [2, 13...      6  \n2    [[1, 75, 11], [1, 75, 12], [1, 76, 11], [1, 76...      6  \n3    [[2, 249, 9], [2, 249, 10], [3, 249, 9], [3, 2...     13  \n4    [[8, 44, 4], [9, 44, 4], [10, 44, 4], [11, 44,...      5  \n..                                                 ...    ...  \n276  [[498, 80, 7], [499, 79, 6], [499, 80, 6], [49...     10  \n277  [[501, 249, 3], [501, 249, 4], [501, 250, 3], ...     15  \n278  [[502, 271, 9], [502, 272, 9], [503, 270, 9], ...      5  \n279  [[505, 33, 6], [505, 34, 6], [505, 35, 6], [50...      8  \n280  [[507, 11, 4], [507, 11, 5], [508, 10, 4], [50...     22  \n\n[281 rows x 6 columns]",
      "text/html": "<div>\n<style scoped>\n    .dataframe tbody tr th:only-of-type {\n        vertical-align: middle;\n    }\n\n    .dataframe tbody tr th {\n        vertical-align: top;\n    }\n\n    .dataframe thead th {\n        text-align: right;\n    }\n</style>\n<table border=\"1\" class=\"dataframe\">\n  <thead>\n    <tr style=\"text-align: right;\">\n      <th></th>\n      <th>label</th>\n      <th>centroid-0</th>\n      <th>centroid-1</th>\n      <th>centroid-2</th>\n      <th>coords</th>\n      <th>Count</th>\n    </tr>\n  </thead>\n  <tbody>\n    <tr>\n      <th>0</th>\n      <td>1</td>\n      <td>0.800000</td>\n      <td>133.500000</td>\n      <td>4.600000</td>\n      <td>[[0, 133, 4], [0, 133, 5], [0, 134, 4], [0, 13...</td>\n      <td>10</td>\n    </tr>\n    <tr>\n      <th>1</th>\n      <td>2</td>\n      <td>1.833333</td>\n      <td>136.666667</td>\n      <td>6.000000</td>\n      <td>[[0, 136, 6], [1, 136, 6], [1, 137, 6], [2, 13...</td>\n      <td>6</td>\n    </tr>\n    <tr>\n      <th>2</th>\n      <td>3</td>\n      <td>1.333333</td>\n      <td>75.500000</td>\n      <td>11.666667</td>\n      <td>[[1, 75, 11], [1, 75, 12], [1, 76, 11], [1, 76...</td>\n      <td>6</td>\n    </tr>\n    <tr>\n      <th>3</th>\n      <td>4</td>\n      <td>3.538462</td>\n      <td>251.307692</td>\n      <td>9.461538</td>\n      <td>[[2, 249, 9], [2, 249, 10], [3, 249, 9], [3, 2...</td>\n      <td>13</td>\n    </tr>\n    <tr>\n      <th>4</th>\n      <td>5</td>\n      <td>9.800000</td>\n      <td>44.200000</td>\n      <td>4.000000</td>\n      <td>[[8, 44, 4], [9, 44, 4], [10, 44, 4], [11, 44,...</td>\n      <td>5</td>\n    </tr>\n    <tr>\n      <th>...</th>\n      <td>...</td>\n      <td>...</td>\n      <td>...</td>\n      <td>...</td>\n      <td>...</td>\n      <td>...</td>\n    </tr>\n    <tr>\n      <th>276</th>\n      <td>277</td>\n      <td>499.900000</td>\n      <td>79.800000</td>\n      <td>6.400000</td>\n      <td>[[498, 80, 7], [499, 79, 6], [499, 80, 6], [49...</td>\n      <td>10</td>\n    </tr>\n    <tr>\n      <th>277</th>\n      <td>278</td>\n      <td>502.266667</td>\n      <td>250.800000</td>\n      <td>2.933333</td>\n      <td>[[501, 249, 3], [501, 249, 4], [501, 250, 3], ...</td>\n      <td>15</td>\n    </tr>\n    <tr>\n      <th>278</th>\n      <td>279</td>\n      <td>502.800000</td>\n      <td>270.800000</td>\n      <td>9.000000</td>\n      <td>[[502, 271, 9], [502, 272, 9], [503, 270, 9], ...</td>\n      <td>5</td>\n    </tr>\n    <tr>\n      <th>279</th>\n      <td>280</td>\n      <td>505.625000</td>\n      <td>34.000000</td>\n      <td>6.125000</td>\n      <td>[[505, 33, 6], [505, 34, 6], [505, 35, 6], [50...</td>\n      <td>8</td>\n    </tr>\n    <tr>\n      <th>280</th>\n      <td>281</td>\n      <td>509.363636</td>\n      <td>10.000000</td>\n      <td>4.590909</td>\n      <td>[[507, 11, 4], [507, 11, 5], [508, 10, 4], [50...</td>\n      <td>22</td>\n    </tr>\n  </tbody>\n</table>\n<p>281 rows × 6 columns</p>\n</div>"
     },
     "execution_count": 88,
     "metadata": {},
     "output_type": "execute_result"
    }
   ],
   "source": [
    "stats1"
   ],
   "metadata": {
    "collapsed": false,
    "pycharm": {
     "name": "#%%\n"
    }
   }
  },
  {
   "cell_type": "code",
   "execution_count": 92,
   "outputs": [],
   "source": [
    "ct = []\n",
    "for i in range(stats1.shape[0]):\n",
    "    ct.append(np.size(stats1.coords[i],axis=0))\n",
    "stats1['Ct']=ct\n"
   ],
   "metadata": {
    "collapsed": false,
    "pycharm": {
     "name": "#%%\n"
    }
   }
  },
  {
   "cell_type": "code",
   "execution_count": 93,
   "outputs": [
    {
     "data": {
      "text/plain": "     label  centroid-0  centroid-1  centroid-2  \\\n0        1    0.800000  133.500000    4.600000   \n1        2    1.833333  136.666667    6.000000   \n2        3    1.333333   75.500000   11.666667   \n3        4    3.538462  251.307692    9.461538   \n4        5    9.800000   44.200000    4.000000   \n..     ...         ...         ...         ...   \n276    277  499.900000   79.800000    6.400000   \n277    278  502.266667  250.800000    2.933333   \n278    279  502.800000  270.800000    9.000000   \n279    280  505.625000   34.000000    6.125000   \n280    281  509.363636   10.000000    4.590909   \n\n                                                coords  Count  Ct  \n0    [[0, 133, 4], [0, 133, 5], [0, 134, 4], [0, 13...     10  10  \n1    [[0, 136, 6], [1, 136, 6], [1, 137, 6], [2, 13...      6   6  \n2    [[1, 75, 11], [1, 75, 12], [1, 76, 11], [1, 76...      6   6  \n3    [[2, 249, 9], [2, 249, 10], [3, 249, 9], [3, 2...     13  13  \n4    [[8, 44, 4], [9, 44, 4], [10, 44, 4], [11, 44,...      5   5  \n..                                                 ...    ...  ..  \n276  [[498, 80, 7], [499, 79, 6], [499, 80, 6], [49...     10  10  \n277  [[501, 249, 3], [501, 249, 4], [501, 250, 3], ...     15  15  \n278  [[502, 271, 9], [502, 272, 9], [503, 270, 9], ...      5   5  \n279  [[505, 33, 6], [505, 34, 6], [505, 35, 6], [50...      8   8  \n280  [[507, 11, 4], [507, 11, 5], [508, 10, 4], [50...     22  22  \n\n[281 rows x 7 columns]",
      "text/html": "<div>\n<style scoped>\n    .dataframe tbody tr th:only-of-type {\n        vertical-align: middle;\n    }\n\n    .dataframe tbody tr th {\n        vertical-align: top;\n    }\n\n    .dataframe thead th {\n        text-align: right;\n    }\n</style>\n<table border=\"1\" class=\"dataframe\">\n  <thead>\n    <tr style=\"text-align: right;\">\n      <th></th>\n      <th>label</th>\n      <th>centroid-0</th>\n      <th>centroid-1</th>\n      <th>centroid-2</th>\n      <th>coords</th>\n      <th>Count</th>\n      <th>Ct</th>\n    </tr>\n  </thead>\n  <tbody>\n    <tr>\n      <th>0</th>\n      <td>1</td>\n      <td>0.800000</td>\n      <td>133.500000</td>\n      <td>4.600000</td>\n      <td>[[0, 133, 4], [0, 133, 5], [0, 134, 4], [0, 13...</td>\n      <td>10</td>\n      <td>10</td>\n    </tr>\n    <tr>\n      <th>1</th>\n      <td>2</td>\n      <td>1.833333</td>\n      <td>136.666667</td>\n      <td>6.000000</td>\n      <td>[[0, 136, 6], [1, 136, 6], [1, 137, 6], [2, 13...</td>\n      <td>6</td>\n      <td>6</td>\n    </tr>\n    <tr>\n      <th>2</th>\n      <td>3</td>\n      <td>1.333333</td>\n      <td>75.500000</td>\n      <td>11.666667</td>\n      <td>[[1, 75, 11], [1, 75, 12], [1, 76, 11], [1, 76...</td>\n      <td>6</td>\n      <td>6</td>\n    </tr>\n    <tr>\n      <th>3</th>\n      <td>4</td>\n      <td>3.538462</td>\n      <td>251.307692</td>\n      <td>9.461538</td>\n      <td>[[2, 249, 9], [2, 249, 10], [3, 249, 9], [3, 2...</td>\n      <td>13</td>\n      <td>13</td>\n    </tr>\n    <tr>\n      <th>4</th>\n      <td>5</td>\n      <td>9.800000</td>\n      <td>44.200000</td>\n      <td>4.000000</td>\n      <td>[[8, 44, 4], [9, 44, 4], [10, 44, 4], [11, 44,...</td>\n      <td>5</td>\n      <td>5</td>\n    </tr>\n    <tr>\n      <th>...</th>\n      <td>...</td>\n      <td>...</td>\n      <td>...</td>\n      <td>...</td>\n      <td>...</td>\n      <td>...</td>\n      <td>...</td>\n    </tr>\n    <tr>\n      <th>276</th>\n      <td>277</td>\n      <td>499.900000</td>\n      <td>79.800000</td>\n      <td>6.400000</td>\n      <td>[[498, 80, 7], [499, 79, 6], [499, 80, 6], [49...</td>\n      <td>10</td>\n      <td>10</td>\n    </tr>\n    <tr>\n      <th>277</th>\n      <td>278</td>\n      <td>502.266667</td>\n      <td>250.800000</td>\n      <td>2.933333</td>\n      <td>[[501, 249, 3], [501, 249, 4], [501, 250, 3], ...</td>\n      <td>15</td>\n      <td>15</td>\n    </tr>\n    <tr>\n      <th>278</th>\n      <td>279</td>\n      <td>502.800000</td>\n      <td>270.800000</td>\n      <td>9.000000</td>\n      <td>[[502, 271, 9], [502, 272, 9], [503, 270, 9], ...</td>\n      <td>5</td>\n      <td>5</td>\n    </tr>\n    <tr>\n      <th>279</th>\n      <td>280</td>\n      <td>505.625000</td>\n      <td>34.000000</td>\n      <td>6.125000</td>\n      <td>[[505, 33, 6], [505, 34, 6], [505, 35, 6], [50...</td>\n      <td>8</td>\n      <td>8</td>\n    </tr>\n    <tr>\n      <th>280</th>\n      <td>281</td>\n      <td>509.363636</td>\n      <td>10.000000</td>\n      <td>4.590909</td>\n      <td>[[507, 11, 4], [507, 11, 5], [508, 10, 4], [50...</td>\n      <td>22</td>\n      <td>22</td>\n    </tr>\n  </tbody>\n</table>\n<p>281 rows × 7 columns</p>\n</div>"
     },
     "execution_count": 93,
     "metadata": {},
     "output_type": "execute_result"
    }
   ],
   "source": [
    "stats1"
   ],
   "metadata": {
    "collapsed": false,
    "pycharm": {
     "name": "#%%\n"
    }
   }
  },
  {
   "cell_type": "code",
   "execution_count": 101,
   "outputs": [
    {
     "name": "stdout",
     "output_type": "stream",
     "text": [
      "<class 'numpy.ndarray'>\n"
     ]
    },
    {
     "data": {
      "text/plain": "array([[  0, 133,   4],\n       [  0, 133,   5],\n       [  0, 134,   4],\n       [  0, 134,   5],\n       [  1, 133,   4],\n       [  1, 133,   5],\n       [  1, 134,   4],\n       [  1, 134,   5],\n       [  2, 133,   5],\n       [  2, 134,   5]])"
     },
     "execution_count": 101,
     "metadata": {},
     "output_type": "execute_result"
    }
   ],
   "source": [
    "\n",
    "print(type(stats1.coords[0]))\n",
    "stats1.coords[0]\n"
   ],
   "metadata": {
    "collapsed": false,
    "pycharm": {
     "name": "#%%\n"
    }
   }
  },
  {
   "cell_type": "code",
   "execution_count": 124,
   "outputs": [
    {
     "name": "stdout",
     "output_type": "stream",
     "text": [
      "[[  0 136   6]\n",
      " [  1 136   6]\n",
      " [  1 137   6]\n",
      " [  2 137   6]\n",
      " [  3 137   6]\n",
      " [  4 137   6]]\n",
      "[97.0, 177.0, 160.0, 173.0, 81.0, 1056.0]\n",
      "23259.0\n",
      "[1056.0, 177.0, 173.0, 160.0, 97.0, 81.0]\n",
      "1744.0\n",
      "6\n"
     ]
    }
   ],
   "source": [
    "b = stats2.coords[1]\n",
    "print(b)\n",
    "threeDimg1 = niftiread('/home/nirvan/Desktop/Projects/EcadMyo_08_all/3DImage/' + 'EcadMyo_08/' + 'Ecad/' + 'threeDimg_' +\n",
    "                                   '00' + str(2) + '.nii')\n",
    "threeDimgPixellist1 = []\n",
    "\n",
    "for i1 in range(np.size(b,axis=0)):\n",
    "    threeDimgPixellist1.append(threeDimg1[b[i1,1],b[i1,0],b[i1,2]])\n",
    "print(threeDimgPixellist1)\n",
    "print(np.amax(threeDimg1))\n",
    "threeDimgPixellist1 = sorted(threeDimgPixellist1,reverse=True)\n",
    "print(threeDimgPixellist1)\n",
    "print(sum(threeDimgPixellist1))\n",
    "print(np.size(threeDimgPixellist1))"
   ],
   "metadata": {
    "collapsed": false,
    "pycharm": {
     "name": "#%%\n"
    }
   }
  },
  {
   "cell_type": "code",
   "execution_count": 94,
   "outputs": [],
   "source": [
    "stats2 = stats1.sort_values(by='Count', axis=0, ascending=False, ignore_index=False)"
   ],
   "metadata": {
    "collapsed": false,
    "pycharm": {
     "name": "#%%\n"
    }
   }
  },
  {
   "cell_type": "code",
   "execution_count": 95,
   "outputs": [
    {
     "data": {
      "text/plain": "     label  centroid-0  centroid-1  centroid-2  \\\n81      82  175.614035  238.649123    5.122807   \n199    200  359.104167  261.687500    4.041667   \n53      54  104.840909  203.431818    6.136364   \n183    184  324.439024   79.024390    2.731707   \n221    222  404.342857  238.714286   12.114286   \n..     ...         ...         ...         ...   \n154    155  272.200000   58.000000    7.400000   \n254    255  456.400000  109.000000    4.400000   \n109    110  214.600000   54.800000    1.600000   \n141    142  262.000000  219.200000   11.400000   \n140    141  259.800000  159.000000    9.400000   \n\n                                                coords  Count  Ct  \n81   [[170, 242, 5], [171, 241, 4], [171, 241, 5], ...     57  57  \n199  [[356, 259, 5], [357, 259, 4], [357, 259, 5], ...     48  48  \n53   [[102, 202, 6], [102, 202, 7], [102, 203, 6], ...     44  44  \n183  [[322, 77, 1], [322, 77, 2], [322, 77, 3], [32...     41  41  \n221  [[402, 238, 12], [402, 238, 13], [402, 239, 12...     35  35  \n..                                                 ...    ...  ..  \n154  [[271, 58, 7], [272, 58, 7], [272, 58, 8], [27...      5   5  \n254  [[455, 109, 5], [456, 109, 4], [456, 109, 5], ...      5   5  \n109  [[214, 54, 1], [214, 55, 1], [214, 55, 2], [21...      5   5  \n141  [[261, 219, 11], [262, 219, 11], [262, 219, 12...      5   5  \n140  [[259, 159, 9], [259, 159, 10], [260, 159, 9],...      5   5  \n\n[281 rows x 7 columns]",
      "text/html": "<div>\n<style scoped>\n    .dataframe tbody tr th:only-of-type {\n        vertical-align: middle;\n    }\n\n    .dataframe tbody tr th {\n        vertical-align: top;\n    }\n\n    .dataframe thead th {\n        text-align: right;\n    }\n</style>\n<table border=\"1\" class=\"dataframe\">\n  <thead>\n    <tr style=\"text-align: right;\">\n      <th></th>\n      <th>label</th>\n      <th>centroid-0</th>\n      <th>centroid-1</th>\n      <th>centroid-2</th>\n      <th>coords</th>\n      <th>Count</th>\n      <th>Ct</th>\n    </tr>\n  </thead>\n  <tbody>\n    <tr>\n      <th>81</th>\n      <td>82</td>\n      <td>175.614035</td>\n      <td>238.649123</td>\n      <td>5.122807</td>\n      <td>[[170, 242, 5], [171, 241, 4], [171, 241, 5], ...</td>\n      <td>57</td>\n      <td>57</td>\n    </tr>\n    <tr>\n      <th>199</th>\n      <td>200</td>\n      <td>359.104167</td>\n      <td>261.687500</td>\n      <td>4.041667</td>\n      <td>[[356, 259, 5], [357, 259, 4], [357, 259, 5], ...</td>\n      <td>48</td>\n      <td>48</td>\n    </tr>\n    <tr>\n      <th>53</th>\n      <td>54</td>\n      <td>104.840909</td>\n      <td>203.431818</td>\n      <td>6.136364</td>\n      <td>[[102, 202, 6], [102, 202, 7], [102, 203, 6], ...</td>\n      <td>44</td>\n      <td>44</td>\n    </tr>\n    <tr>\n      <th>183</th>\n      <td>184</td>\n      <td>324.439024</td>\n      <td>79.024390</td>\n      <td>2.731707</td>\n      <td>[[322, 77, 1], [322, 77, 2], [322, 77, 3], [32...</td>\n      <td>41</td>\n      <td>41</td>\n    </tr>\n    <tr>\n      <th>221</th>\n      <td>222</td>\n      <td>404.342857</td>\n      <td>238.714286</td>\n      <td>12.114286</td>\n      <td>[[402, 238, 12], [402, 238, 13], [402, 239, 12...</td>\n      <td>35</td>\n      <td>35</td>\n    </tr>\n    <tr>\n      <th>...</th>\n      <td>...</td>\n      <td>...</td>\n      <td>...</td>\n      <td>...</td>\n      <td>...</td>\n      <td>...</td>\n      <td>...</td>\n    </tr>\n    <tr>\n      <th>154</th>\n      <td>155</td>\n      <td>272.200000</td>\n      <td>58.000000</td>\n      <td>7.400000</td>\n      <td>[[271, 58, 7], [272, 58, 7], [272, 58, 8], [27...</td>\n      <td>5</td>\n      <td>5</td>\n    </tr>\n    <tr>\n      <th>254</th>\n      <td>255</td>\n      <td>456.400000</td>\n      <td>109.000000</td>\n      <td>4.400000</td>\n      <td>[[455, 109, 5], [456, 109, 4], [456, 109, 5], ...</td>\n      <td>5</td>\n      <td>5</td>\n    </tr>\n    <tr>\n      <th>109</th>\n      <td>110</td>\n      <td>214.600000</td>\n      <td>54.800000</td>\n      <td>1.600000</td>\n      <td>[[214, 54, 1], [214, 55, 1], [214, 55, 2], [21...</td>\n      <td>5</td>\n      <td>5</td>\n    </tr>\n    <tr>\n      <th>141</th>\n      <td>142</td>\n      <td>262.000000</td>\n      <td>219.200000</td>\n      <td>11.400000</td>\n      <td>[[261, 219, 11], [262, 219, 11], [262, 219, 12...</td>\n      <td>5</td>\n      <td>5</td>\n    </tr>\n    <tr>\n      <th>140</th>\n      <td>141</td>\n      <td>259.800000</td>\n      <td>159.000000</td>\n      <td>9.400000</td>\n      <td>[[259, 159, 9], [259, 159, 10], [260, 159, 9],...</td>\n      <td>5</td>\n      <td>5</td>\n    </tr>\n  </tbody>\n</table>\n<p>281 rows × 7 columns</p>\n</div>"
     },
     "execution_count": 95,
     "metadata": {},
     "output_type": "execute_result"
    }
   ],
   "source": [
    "stats2"
   ],
   "metadata": {
    "collapsed": false,
    "pycharm": {
     "name": "#%%\n"
    }
   }
  },
  {
   "cell_type": "code",
   "execution_count": 135,
   "outputs": [],
   "source": [
    "import statistics\n",
    "a=[1,1,1,2,2,2,2,3,3,3,4]\n",
    "value = statistics.mode(np.array(a).flatten())\n",
    "u, c = np.unique(np.array(a), return_counts=True)\n",
    "Value_f = dict(zip(u, c))[value]"
   ],
   "metadata": {
    "collapsed": false,
    "pycharm": {
     "name": "#%%\n"
    }
   }
  },
  {
   "cell_type": "code",
   "execution_count": 136,
   "outputs": [
    {
     "data": {
      "text/plain": "4"
     },
     "execution_count": 136,
     "metadata": {},
     "output_type": "execute_result"
    }
   ],
   "source": [
    "Value_f"
   ],
   "metadata": {
    "collapsed": false,
    "pycharm": {
     "name": "#%%\n"
    }
   }
  },
  {
   "cell_type": "code",
   "execution_count": 137,
   "outputs": [
    {
     "data": {
      "text/plain": "2"
     },
     "execution_count": 137,
     "metadata": {},
     "output_type": "execute_result"
    }
   ],
   "source": [
    "value"
   ],
   "metadata": {
    "collapsed": false,
    "pycharm": {
     "name": "#%%\n"
    }
   }
  },
  {
   "cell_type": "code",
   "execution_count": 148,
   "outputs": [
    {
     "name": "stdout",
     "output_type": "stream",
     "text": [
      "[1 2 3 4 5 6 7 8 9]\n",
      "[1 2 3 4 5 6 7 8 9]\n",
      "[]\n",
      "[1 2 3 4 5] [0 1 2 3 4]\n",
      "[6 7 8 9] [0 2 3 4]\n",
      "[] [] []\n",
      "<class 'numpy.ndarray'>\n",
      "0\n"
     ]
    }
   ],
   "source": [
    "import numpy as np\n",
    "def intersect_mtlb(a, b):\n",
    "    a1, ia = np.unique(a, return_index=True)\n",
    "    b1, ib = np.unique(b, return_index=True)\n",
    "    aux = np.concatenate((a1, b1))\n",
    "    print(aux)\n",
    "    aux.sort()\n",
    "    print(aux)\n",
    "    c = aux[:-1][aux[1:] == aux[:-1]]\n",
    "    print(c)\n",
    "    print(a1, ia)\n",
    "    print(b1,ib)\n",
    "    return c, ia[np.isin(a1, c)], ib[np.isin(b1, c)]\n",
    "\n",
    "\n",
    "# a = np.array([7, 1, 7, 7, 4]);\n",
    "# b = np.array([7, 0, 4, 4, 0]);\n",
    "a = np.array([1,2,3,4,5])\n",
    "b = np.array([6,6,7,8,9])\n",
    "c, ia, ib = intersect_mtlb(a, b)\n",
    "print(c, ia, ib)\n",
    "print(type(c))\n",
    "print(np.size(c,axis=0))"
   ],
   "metadata": {
    "collapsed": false,
    "pycharm": {
     "name": "#%%\n"
    }
   }
  },
  {
   "cell_type": "code",
   "execution_count": 151,
   "outputs": [],
   "source": [
    "xx = []\n",
    "for i in range(10):\n",
    "    xx.append([i,i+1])"
   ],
   "metadata": {
    "collapsed": false,
    "pycharm": {
     "name": "#%%\n"
    }
   }
  },
  {
   "cell_type": "code",
   "execution_count": 152,
   "outputs": [
    {
     "data": {
      "text/plain": "[[0, 1],\n [1, 2],\n [2, 3],\n [3, 4],\n [4, 5],\n [5, 6],\n [6, 7],\n [7, 8],\n [8, 9],\n [9, 10]]"
     },
     "execution_count": 152,
     "metadata": {},
     "output_type": "execute_result"
    }
   ],
   "source": [
    "xx"
   ],
   "metadata": {
    "collapsed": false,
    "pycharm": {
     "name": "#%%\n"
    }
   }
  },
  {
   "cell_type": "code",
   "execution_count": 169,
   "outputs": [
    {
     "name": "stdout",
     "output_type": "stream",
     "text": [
      "[1 2 3 6]\n"
     ]
    }
   ],
   "source": [
    "import numpy as np\n",
    "def setdiff(a, b):\n",
    "    a1, ia = np.unique(a, return_index=True)\n",
    "    b1, ib = np.unique(b, return_index=True)\n",
    "    return np.asarray([i for i in a1 if i not in b1])\n",
    "\n",
    "\n",
    "# a = np.array([7, 1, 7, 7, 4]);\n",
    "# b = np.array([7, 0, 4, 4, 0]);\n",
    "a = np.array([5,2,3,4,1,4,5,5,6,6])\n",
    "b = np.array([5,4,7,8,9])\n",
    "print(setdiff(a,b))\n",
    "\n",
    "# c, ia, ib = setdiff(a, b)\n",
    "# print(c, ia, ib)\n",
    "# print(type(c))\n",
    "# print(np.size(c,axis=0))"
   ],
   "metadata": {
    "collapsed": false,
    "pycharm": {
     "name": "#%%\n"
    }
   }
  },
  {
   "cell_type": "code",
   "execution_count": 159,
   "outputs": [
    {
     "name": "stdout",
     "output_type": "stream",
     "text": [
      "[2, 3]\n"
     ]
    }
   ],
   "source": [
    "xxxx = [1,2,3,4]\n",
    "print(xxxx[1:-1])"
   ],
   "metadata": {
    "collapsed": false,
    "pycharm": {
     "name": "#%%\n"
    }
   }
  },
  {
   "cell_type": "code",
   "execution_count": 175,
   "outputs": [
    {
     "name": "stdout",
     "output_type": "stream",
     "text": [
      "True\n"
     ]
    },
    {
     "data": {
      "text/plain": "False"
     },
     "execution_count": 175,
     "metadata": {},
     "output_type": "execute_result"
    }
   ],
   "source": [
    "def isempty(a):\n",
    "    return True if np.size(a, axis=0) == 0 else False\n",
    "print(isempty([]))\n",
    "\n",
    "isempty([1,2,3])"
   ],
   "metadata": {
    "collapsed": false,
    "pycharm": {
     "name": "#%%\n"
    }
   }
  },
  {
   "cell_type": "code",
   "execution_count": 178,
   "outputs": [
    {
     "data": {
      "text/plain": "0.3539297128281379"
     },
     "execution_count": 178,
     "metadata": {},
     "output_type": "execute_result"
    }
   ],
   "source": [
    "np.random.rand()"
   ],
   "metadata": {
    "collapsed": false,
    "pycharm": {
     "name": "#%%\n"
    }
   }
  },
  {
   "cell_type": "code",
   "execution_count": null,
   "outputs": [],
   "source": [],
   "metadata": {
    "collapsed": false,
    "pycharm": {
     "name": "#%%\n"
    }
   }
  }
 ],
 "metadata": {
  "kernelspec": {
   "display_name": "Python 3",
   "language": "python",
   "name": "python3"
  },
  "language_info": {
   "codemirror_mode": {
    "name": "ipython",
    "version": 2
   },
   "file_extension": ".py",
   "mimetype": "text/x-python",
   "name": "python",
   "nbconvert_exporter": "python",
   "pygments_lexer": "ipython2",
   "version": "2.7.6"
  }
 },
 "nbformat": 4,
 "nbformat_minor": 0
}